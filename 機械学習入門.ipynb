{
 "cells": [
  {
   "cell_type": "code",
   "execution_count": 1,
   "metadata": {},
   "outputs": [],
   "source": [
    "import numpy as np"
   ]
  },
  {
   "cell_type": "code",
   "execution_count": 2,
   "metadata": {},
   "outputs": [
    {
     "name": "stdout",
     "output_type": "stream",
     "text": [
      "[[ 6 13 11]\n",
      " [13 35 25]\n",
      " [11 25 23]]\n",
      "[[ 1.66666667 -0.22222222 -0.55555556]\n",
      " [-0.22222222  0.15740741 -0.06481481]\n",
      " [-0.55555556 -0.06481481  0.37962963]]\n",
      "[10 18 19]\n"
     ]
    },
    {
     "data": {
      "text/plain": [
       "array([[ 16.66666667,  -4.        , -10.55555556],\n",
       "       [ -2.22222222,   2.83333333,  -1.23148148],\n",
       "       [ -5.55555556,  -1.16666667,   7.21296296]])"
      ]
     },
     "execution_count": 2,
     "metadata": {},
     "output_type": "execute_result"
    }
   ],
   "source": [
    "a = np.array([[6, 13, 11], [13, 35, 25], [11, 25, 23]])\n",
    "invA = np.linalg.inv(a)\n",
    "print(a)\n",
    "print(invA)\n",
    "b = np.array([10, 18, 19])\n",
    "print(b)\n",
    "answer = np.multiply(invA, b)\n",
    "# answer = invA * b\n",
    "# print(answer)\n",
    "answer"
   ]
  },
  {
   "cell_type": "code",
   "execution_count": 3,
   "metadata": {},
   "outputs": [
    {
     "data": {
      "text/plain": [
       "array([[2.10000e+01, 1.05000e+02, 7.17500e+02],\n",
       "       [1.05000e+02, 7.17500e+02, 5.51250e+03],\n",
       "       [7.17500e+02, 5.51250e+03, 4.51666e+04]])"
      ]
     },
     "execution_count": 3,
     "metadata": {},
     "output_type": "execute_result"
    }
   ],
   "source": [
    "a = np.array([[21, 105, 717.5], [105, 717.5, 5512.5], [717.5, 5512.5, 45166.6]])\n",
    "a"
   ]
  },
  {
   "cell_type": "code",
   "execution_count": 4,
   "metadata": {},
   "outputs": [
    {
     "data": {
      "text/plain": [
       "array([[ 0.35629907, -0.13890659,  0.01129326],\n",
       "       [-0.13890659,  0.07652063, -0.00713258],\n",
       "       [ 0.01129326, -0.00713258,  0.00071326]])"
      ]
     },
     "execution_count": 4,
     "metadata": {},
     "output_type": "execute_result"
    }
   ],
   "source": [
    "invA = np.linalg.inv(a)\n",
    "invA"
   ]
  },
  {
   "cell_type": "code",
   "execution_count": 5,
   "metadata": {},
   "outputs": [
    {
     "data": {
      "text/plain": [
       "[930.4, 7012.9, 57136.8]"
      ]
     },
     "execution_count": 5,
     "metadata": {},
     "output_type": "execute_result"
    }
   ],
   "source": [
    "b = [930.4, 7012.9, 57136.8]\n",
    "b"
   ]
  },
  {
   "cell_type": "code",
   "execution_count": 8,
   "metadata": {},
   "outputs": [
    {
     "data": {
      "text/plain": [
       "array([ 2.62316218, -0.14009696,  1.24045125])"
      ]
     },
     "execution_count": 8,
     "metadata": {},
     "output_type": "execute_result"
    }
   ],
   "source": [
    "np.dot(invA, b)\n",
    "# np.matmul(invA, b)\n",
    "# invA @ b\n",
    "# 上二つも同様に行列の積が求められるが、三次元以上の多次元配列での処理が異なる\n",
    "# numpy.matrixなら\n",
    "# invA * b\n",
    "# でも行列の積が算出される。"
   ]
  },
  {
   "cell_type": "code",
   "execution_count": 32,
   "metadata": {},
   "outputs": [
    {
     "name": "stdout",
     "output_type": "stream",
     "text": [
      "-23.846153846153854\n"
     ]
    }
   ],
   "source": [
    "# 小テスト\n",
    "list = np.array([[-2, 3, -30], [-1, 3, -10], [0, 0, 10], [1, 0, 0], [2, -1, 20]])\n",
    "\n",
    "x1 = 0\n",
    "for i in range(5):\n",
    "    x1 = x1 + list[i][0]\n",
    "x2 = 0\n",
    "for i in range(5):\n",
    "    x1 += list[i, 1]\n",
    "t = 0\n",
    "for i in range(5):\n",
    "    t += list[i, 2]\n",
    "\n",
    "    \n",
    "x11 = 0\n",
    "for i in range(5):\n",
    "    x11 += list[i, 0] * list[i, 0]\n",
    "x22 = 0\n",
    "for i in range(5):\n",
    "    x22 += list[i, 1] * list[i, 1]\n",
    "x12 = 0\n",
    "for i in range(5):\n",
    "    x12 += list[i, 0] * list[i, 1]\n",
    "x1t = 0\n",
    "for i in range(5):\n",
    "    x1t += list[i, 0] * list[i, 2]\n",
    "x2t = 0\n",
    "for i in range(5):\n",
    "    x2t += list[i, 1] * list[i, 2]\n",
    "\n",
    "a = np.array([[5, x1, x2], [x1, x11, x12], [x2, x12, x22]])\n",
    "\n",
    "b = np.array([[t], [x1t], [x2t]])\n",
    "\n",
    "invA = np.linalg.inv(a)\n",
    "\n",
    "answer = np.dot(invA, b)\n",
    "print(answer[2, 0])\n"
   ]
  },
  {
   "cell_type": "code",
   "execution_count": null,
   "metadata": {},
   "outputs": [],
   "source": []
  }
 ],
 "metadata": {
  "kernelspec": {
   "display_name": "Python 3",
   "language": "python",
   "name": "python3"
  },
  "language_info": {
   "codemirror_mode": {
    "name": "ipython",
    "version": 3
   },
   "file_extension": ".py",
   "mimetype": "text/x-python",
   "name": "python",
   "nbconvert_exporter": "python",
   "pygments_lexer": "ipython3",
   "version": "3.7.4"
  }
 },
 "nbformat": 4,
 "nbformat_minor": 4
}
